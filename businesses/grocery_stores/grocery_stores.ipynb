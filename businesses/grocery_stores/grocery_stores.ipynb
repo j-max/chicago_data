{
 "cells": [
  {
   "cell_type": "code",
   "execution_count": null,
   "metadata": {},
   "outputs": [],
   "source": [
    "import requests\n",
    "\n",
    "import numpy as np\n",
    "import pandas as pd\n",
    "\n",
    "import matplotlib.pyplot as plt\n",
    "import matplotlib.ticker as ticker\n",
    "import seaborn as sns"
   ]
  },
  {
   "cell_type": "code",
   "execution_count": null,
   "metadata": {},
   "outputs": [],
   "source": [
    "active_business_url = \"https://data.cityofchicago.org/resource/uupf-x98q.json?$query=SELECT%20id%2C%20license_id%2C%20account_number%2C%20site_number%2C%20legal_name%2C%20doing_business_as_name%2C%20address%2C%20city%2C%20state%2C%20zip_code%2C%20ward%2C%20precinct%2C%20ward_precinct%2C%20police_district%2C%20license_code%2C%20license_description%2C%20business_activity_id%2C%20business_activity%2C%20license_number%2C%20application_type%2C%20application_created_date%2C%20application_requirements_complete%2C%20payment_date%2C%20conditional_approval%2C%20license_start_date%2C%20expiration_date%2C%20license_approved_for_issuance%2C%20date_issued%2C%20license_status%2C%20license_status_change_date%2C%20ssa%2C%20latitude%2C%20longitude%2C%20location%20ORDER%20BY%20license_start_date%20DESC\""
   ]
  },
  {
   "cell_type": "code",
   "execution_count": null,
   "metadata": {},
   "outputs": [],
   "source": []
  }
 ],
 "metadata": {
  "language_info": {
   "name": "python"
  }
 },
 "nbformat": 4,
 "nbformat_minor": 2
}
