{
 "cells": [
  {
   "cell_type": "code",
   "execution_count": 1,
   "metadata": {},
   "outputs": [],
   "source": [
    "import requests\n",
    "\n",
    "import numpy as np\n",
    "import pandas as pd\n",
    "\n",
    "import matplotlib.pyplot as plt\n",
    "import matplotlib.ticker as ticker\n",
    "import seaborn as sns"
   ]
  },
  {
   "cell_type": "code",
   "execution_count": 28,
   "metadata": {},
   "outputs": [],
   "source": [
    "# the Chicago Data Portal returns 1000 records at a time\n",
    "# The data must be queried with the offset parameter \n",
    "business_df = pd.DataFrame()\n",
    "\n",
    "for offset in range(0, 60000, 1000):\n",
    "    active_business_url = f\"https://data.cityofchicago.org/resource/uupf-x98q.json?$limit=1000&$offset={offset}\"\n",
    "    response = requests.get(active_business_url)\n",
    "    offset_df = pd.DataFrame(response.json())\n",
    "    business_df = pd.concat([business_df,offset_df])"
   ]
  },
  {
   "cell_type": "code",
   "execution_count": 30,
   "metadata": {},
   "outputs": [
    {
     "data": {
      "text/html": [
       "<div>\n",
       "<style scoped>\n",
       "    .dataframe tbody tr th:only-of-type {\n",
       "        vertical-align: middle;\n",
       "    }\n",
       "\n",
       "    .dataframe tbody tr th {\n",
       "        vertical-align: top;\n",
       "    }\n",
       "\n",
       "    .dataframe thead th {\n",
       "        text-align: right;\n",
       "    }\n",
       "</style>\n",
       "<table border=\"1\" class=\"dataframe\">\n",
       "  <thead>\n",
       "    <tr style=\"text-align: right;\">\n",
       "      <th></th>\n",
       "      <th>license_description</th>\n",
       "      <th>zip_code</th>\n",
       "      <th>license_id</th>\n",
       "      <th>location</th>\n",
       "      <th>date_issued</th>\n",
       "      <th>city</th>\n",
       "      <th>ward_precinct</th>\n",
       "      <th>address</th>\n",
       "      <th>license_status</th>\n",
       "      <th>conditional_approval</th>\n",
       "      <th>...</th>\n",
       "      <th>license_number</th>\n",
       "      <th>license_approved_for_issuance</th>\n",
       "      <th>expiration_date</th>\n",
       "      <th>account_number</th>\n",
       "      <th>site_number</th>\n",
       "      <th>license_code</th>\n",
       "      <th>legal_name</th>\n",
       "      <th>id</th>\n",
       "      <th>ssa</th>\n",
       "      <th>application_created_date</th>\n",
       "    </tr>\n",
       "  </thead>\n",
       "  <tbody>\n",
       "    <tr>\n",
       "      <th>0</th>\n",
       "      <td>Regulated Business License</td>\n",
       "      <td>60655</td>\n",
       "      <td>2962346</td>\n",
       "      <td>{'latitude': '41.70083904551383', 'human_addre...</td>\n",
       "      <td>2024-04-15T00:00:00.000</td>\n",
       "      <td>CHICAGO</td>\n",
       "      <td>19-29</td>\n",
       "      <td>10555 S KEDZIE AVE</td>\n",
       "      <td>AAI</td>\n",
       "      <td>N</td>\n",
       "      <td>...</td>\n",
       "      <td>2862408</td>\n",
       "      <td>2024-04-12T00:00:00.000</td>\n",
       "      <td>2026-08-15T00:00:00.000</td>\n",
       "      <td>487722</td>\n",
       "      <td>1</td>\n",
       "      <td>4404</td>\n",
       "      <td>T'MARIE ART COMPANY LLC</td>\n",
       "      <td>2862408-20240816</td>\n",
       "      <td>NaN</td>\n",
       "      <td>NaN</td>\n",
       "    </tr>\n",
       "    <tr>\n",
       "      <th>1</th>\n",
       "      <td>Shared Kitchen User (Long Term)</td>\n",
       "      <td>60605</td>\n",
       "      <td>2962074</td>\n",
       "      <td>{'latitude': '41.864950550027714', 'human_addr...</td>\n",
       "      <td>2024-04-04T00:00:00.000</td>\n",
       "      <td>CHICAGO</td>\n",
       "      <td>3-26</td>\n",
       "      <td>1327 S PLYMOUTH CT 1 C</td>\n",
       "      <td>AAI</td>\n",
       "      <td>N</td>\n",
       "      <td>...</td>\n",
       "      <td>2856289</td>\n",
       "      <td>NaN</td>\n",
       "      <td>2026-07-15T00:00:00.000</td>\n",
       "      <td>486252</td>\n",
       "      <td>2</td>\n",
       "      <td>8344</td>\n",
       "      <td>HOOK POINT FISHERIES LLC</td>\n",
       "      <td>2856289-20240716</td>\n",
       "      <td>NaN</td>\n",
       "      <td>NaN</td>\n",
       "    </tr>\n",
       "    <tr>\n",
       "      <th>2</th>\n",
       "      <td>Valet Parking Operator</td>\n",
       "      <td>60611</td>\n",
       "      <td>2963136</td>\n",
       "      <td>{'latitude': '41.892140783720365', 'human_addr...</td>\n",
       "      <td>2024-05-03T00:00:00.000</td>\n",
       "      <td>CHICAGO</td>\n",
       "      <td>42-48</td>\n",
       "      <td>540 N MICHIGAN AVE</td>\n",
       "      <td>AAI</td>\n",
       "      <td>N</td>\n",
       "      <td>...</td>\n",
       "      <td>2463664</td>\n",
       "      <td>2024-05-03T00:00:00.000</td>\n",
       "      <td>2025-06-30T00:00:00.000</td>\n",
       "      <td>63376</td>\n",
       "      <td>189</td>\n",
       "      <td>2101</td>\n",
       "      <td>INTERPARK LLC</td>\n",
       "      <td>2463664-20240701</td>\n",
       "      <td>NaN</td>\n",
       "      <td>NaN</td>\n",
       "    </tr>\n",
       "    <tr>\n",
       "      <th>3</th>\n",
       "      <td>Peddler License</td>\n",
       "      <td>60649</td>\n",
       "      <td>2961357</td>\n",
       "      <td>{'latitude': '41.77004962808352', 'human_addre...</td>\n",
       "      <td>2024-03-20T00:00:00.000</td>\n",
       "      <td>CHICAGO</td>\n",
       "      <td>5-40</td>\n",
       "      <td>6855 S MERRILL AVE  3</td>\n",
       "      <td>AAI</td>\n",
       "      <td>N</td>\n",
       "      <td>...</td>\n",
       "      <td>2831109</td>\n",
       "      <td>NaN</td>\n",
       "      <td>2026-06-15T00:00:00.000</td>\n",
       "      <td>391097</td>\n",
       "      <td>2</td>\n",
       "      <td>4406</td>\n",
       "      <td>RAYSKEE SCOTT ROUNDTREE</td>\n",
       "      <td>2831109-20240616</td>\n",
       "      <td>NaN</td>\n",
       "      <td>NaN</td>\n",
       "    </tr>\n",
       "    <tr>\n",
       "      <th>4</th>\n",
       "      <td>Regulated Business License</td>\n",
       "      <td>33626</td>\n",
       "      <td>2965158</td>\n",
       "      <td>NaN</td>\n",
       "      <td>2024-05-03T00:00:00.000</td>\n",
       "      <td>TAMPA</td>\n",
       "      <td>NaN</td>\n",
       "      <td>12425  RACE TRACK RD  100</td>\n",
       "      <td>AAI</td>\n",
       "      <td>N</td>\n",
       "      <td>...</td>\n",
       "      <td>2600705</td>\n",
       "      <td>2024-05-02T00:00:00.000</td>\n",
       "      <td>2026-06-15T00:00:00.000</td>\n",
       "      <td>427761</td>\n",
       "      <td>1</td>\n",
       "      <td>4404</td>\n",
       "      <td>Full Circle Financial Services, LLC</td>\n",
       "      <td>2600705-20240616</td>\n",
       "      <td>NaN</td>\n",
       "      <td>NaN</td>\n",
       "    </tr>\n",
       "  </tbody>\n",
       "</table>\n",
       "<p>5 rows × 33 columns</p>\n",
       "</div>"
      ],
      "text/plain": [
       "               license_description zip_code license_id  \\\n",
       "0       Regulated Business License    60655    2962346   \n",
       "1  Shared Kitchen User (Long Term)    60605    2962074   \n",
       "2           Valet Parking Operator    60611    2963136   \n",
       "3                  Peddler License    60649    2961357   \n",
       "4       Regulated Business License    33626    2965158   \n",
       "\n",
       "                                            location              date_issued  \\\n",
       "0  {'latitude': '41.70083904551383', 'human_addre...  2024-04-15T00:00:00.000   \n",
       "1  {'latitude': '41.864950550027714', 'human_addr...  2024-04-04T00:00:00.000   \n",
       "2  {'latitude': '41.892140783720365', 'human_addr...  2024-05-03T00:00:00.000   \n",
       "3  {'latitude': '41.77004962808352', 'human_addre...  2024-03-20T00:00:00.000   \n",
       "4                                                NaN  2024-05-03T00:00:00.000   \n",
       "\n",
       "      city ward_precinct                    address license_status  \\\n",
       "0  CHICAGO         19-29         10555 S KEDZIE AVE            AAI   \n",
       "1  CHICAGO          3-26     1327 S PLYMOUTH CT 1 C            AAI   \n",
       "2  CHICAGO         42-48         540 N MICHIGAN AVE            AAI   \n",
       "3  CHICAGO          5-40      6855 S MERRILL AVE  3            AAI   \n",
       "4    TAMPA           NaN  12425  RACE TRACK RD  100            AAI   \n",
       "\n",
       "  conditional_approval  ... license_number license_approved_for_issuance  \\\n",
       "0                    N  ...        2862408       2024-04-12T00:00:00.000   \n",
       "1                    N  ...        2856289                           NaN   \n",
       "2                    N  ...        2463664       2024-05-03T00:00:00.000   \n",
       "3                    N  ...        2831109                           NaN   \n",
       "4                    N  ...        2600705       2024-05-02T00:00:00.000   \n",
       "\n",
       "           expiration_date account_number site_number license_code  \\\n",
       "0  2026-08-15T00:00:00.000         487722           1         4404   \n",
       "1  2026-07-15T00:00:00.000         486252           2         8344   \n",
       "2  2025-06-30T00:00:00.000          63376         189         2101   \n",
       "3  2026-06-15T00:00:00.000         391097           2         4406   \n",
       "4  2026-06-15T00:00:00.000         427761           1         4404   \n",
       "\n",
       "                            legal_name                id  ssa  \\\n",
       "0              T'MARIE ART COMPANY LLC  2862408-20240816  NaN   \n",
       "1             HOOK POINT FISHERIES LLC  2856289-20240716  NaN   \n",
       "2                        INTERPARK LLC  2463664-20240701  NaN   \n",
       "3              RAYSKEE SCOTT ROUNDTREE  2831109-20240616  NaN   \n",
       "4  Full Circle Financial Services, LLC  2600705-20240616  NaN   \n",
       "\n",
       "  application_created_date  \n",
       "0                      NaN  \n",
       "1                      NaN  \n",
       "2                      NaN  \n",
       "3                      NaN  \n",
       "4                      NaN  \n",
       "\n",
       "[5 rows x 33 columns]"
      ]
     },
     "execution_count": 30,
     "metadata": {},
     "output_type": "execute_result"
    }
   ],
   "source": [
    "business_df.head()"
   ]
  },
  {
   "cell_type": "code",
   "execution_count": 31,
   "metadata": {},
   "outputs": [
    {
     "data": {
      "text/plain": [
       "Index(['license_description', 'zip_code', 'license_id', 'location',\n",
       "       'date_issued', 'city', 'ward_precinct', 'address', 'license_status',\n",
       "       'conditional_approval', 'state', 'payment_date', 'business_activity',\n",
       "       'license_start_date', 'latitude', 'precinct',\n",
       "       'application_requirements_complete', 'ward', 'doing_business_as_name',\n",
       "       'police_district', 'business_activity_id', 'longitude',\n",
       "       'application_type', 'license_number', 'license_approved_for_issuance',\n",
       "       'expiration_date', 'account_number', 'site_number', 'license_code',\n",
       "       'legal_name', 'id', 'ssa', 'application_created_date'],\n",
       "      dtype='object')"
      ]
     },
     "execution_count": 31,
     "metadata": {},
     "output_type": "execute_result"
    }
   ],
   "source": [
    "business_df.columns"
   ]
  },
  {
   "cell_type": "markdown",
   "metadata": {},
   "source": [
    "# How Many Jewel's are in Chicago\n"
   ]
  },
  {
   "cell_type": "code",
   "execution_count": 34,
   "metadata": {},
   "outputs": [],
   "source": [
    "\n",
    "jewels = business_df[business_df[\"legal_name\"] == \"JEWEL FOOD STORES, INC.\"]"
   ]
  },
  {
   "cell_type": "code",
   "execution_count": 40,
   "metadata": {},
   "outputs": [
    {
     "data": {
      "text/html": [
       "<div>\n",
       "<style scoped>\n",
       "    .dataframe tbody tr th:only-of-type {\n",
       "        vertical-align: middle;\n",
       "    }\n",
       "\n",
       "    .dataframe tbody tr th {\n",
       "        vertical-align: top;\n",
       "    }\n",
       "\n",
       "    .dataframe thead th {\n",
       "        text-align: right;\n",
       "    }\n",
       "</style>\n",
       "<table border=\"1\" class=\"dataframe\">\n",
       "  <thead>\n",
       "    <tr style=\"text-align: right;\">\n",
       "      <th></th>\n",
       "      <th>license_description</th>\n",
       "      <th>zip_code</th>\n",
       "      <th>license_id</th>\n",
       "      <th>location</th>\n",
       "      <th>date_issued</th>\n",
       "      <th>city</th>\n",
       "      <th>ward_precinct</th>\n",
       "      <th>address</th>\n",
       "      <th>license_status</th>\n",
       "      <th>conditional_approval</th>\n",
       "      <th>...</th>\n",
       "      <th>license_number</th>\n",
       "      <th>license_approved_for_issuance</th>\n",
       "      <th>expiration_date</th>\n",
       "      <th>account_number</th>\n",
       "      <th>site_number</th>\n",
       "      <th>license_code</th>\n",
       "      <th>legal_name</th>\n",
       "      <th>id</th>\n",
       "      <th>ssa</th>\n",
       "      <th>application_created_date</th>\n",
       "    </tr>\n",
       "  </thead>\n",
       "  <tbody>\n",
       "    <tr>\n",
       "      <th>798</th>\n",
       "      <td>Food - Shared Kitchen - Supplemental</td>\n",
       "      <td>60656</td>\n",
       "      <td>2951734</td>\n",
       "      <td>{'latitude': '41.97454294770947', 'human_addre...</td>\n",
       "      <td>2024-04-24T00:00:00.000</td>\n",
       "      <td>CHICAGO</td>\n",
       "      <td>41-36</td>\n",
       "      <td>7342 W FOSTER AVE 1ST</td>\n",
       "      <td>AAI</td>\n",
       "      <td>N</td>\n",
       "      <td>...</td>\n",
       "      <td>2951734</td>\n",
       "      <td>2024-04-23T00:00:00.000</td>\n",
       "      <td>2026-03-15T00:00:00.000</td>\n",
       "      <td>259</td>\n",
       "      <td>26</td>\n",
       "      <td>8343</td>\n",
       "      <td>JEWEL FOOD STORES, INC.</td>\n",
       "      <td>2951734-20240424</td>\n",
       "      <td>NaN</td>\n",
       "      <td>2024-01-24T00:00:00.000</td>\n",
       "    </tr>\n",
       "    <tr>\n",
       "      <th>90</th>\n",
       "      <td>Food - Shared Kitchen - Supplemental</td>\n",
       "      <td>60618</td>\n",
       "      <td>2948895</td>\n",
       "      <td>{'latitude': '41.95910043303784', 'human_addre...</td>\n",
       "      <td>2024-01-18T00:00:00.000</td>\n",
       "      <td>CHICAGO</td>\n",
       "      <td>47-8</td>\n",
       "      <td>4250 N LINCOLN AVE 1</td>\n",
       "      <td>AAI</td>\n",
       "      <td>N</td>\n",
       "      <td>...</td>\n",
       "      <td>2803237</td>\n",
       "      <td>2024-01-17T00:00:00.000</td>\n",
       "      <td>2026-03-15T00:00:00.000</td>\n",
       "      <td>259</td>\n",
       "      <td>4</td>\n",
       "      <td>8343</td>\n",
       "      <td>JEWEL FOOD STORES, INC.</td>\n",
       "      <td>2803237-20240316</td>\n",
       "      <td>38</td>\n",
       "      <td>NaN</td>\n",
       "    </tr>\n",
       "    <tr>\n",
       "      <th>110</th>\n",
       "      <td>Food - Shared Kitchen - Supplemental</td>\n",
       "      <td>60639</td>\n",
       "      <td>2948928</td>\n",
       "      <td>{'latitude': '41.92629695632618', 'human_addre...</td>\n",
       "      <td>2024-01-18T00:00:00.000</td>\n",
       "      <td>CHICAGO</td>\n",
       "      <td>36-4</td>\n",
       "      <td>2520 N NARRAGANSETT AVE</td>\n",
       "      <td>AAI</td>\n",
       "      <td>N</td>\n",
       "      <td>...</td>\n",
       "      <td>2845353</td>\n",
       "      <td>2024-01-17T00:00:00.000</td>\n",
       "      <td>2026-03-15T00:00:00.000</td>\n",
       "      <td>259</td>\n",
       "      <td>53</td>\n",
       "      <td>8343</td>\n",
       "      <td>JEWEL FOOD STORES, INC.</td>\n",
       "      <td>2845353-20240316</td>\n",
       "      <td>NaN</td>\n",
       "      <td>NaN</td>\n",
       "    </tr>\n",
       "    <tr>\n",
       "      <th>153</th>\n",
       "      <td>Retail Food Establishment</td>\n",
       "      <td>60649</td>\n",
       "      <td>2948918</td>\n",
       "      <td>{'latitude': '41.75780565854321', 'human_addre...</td>\n",
       "      <td>2024-01-18T00:00:00.000</td>\n",
       "      <td>CHICAGO</td>\n",
       "      <td>8-2</td>\n",
       "      <td>7530 S STONY ISLAND AVE</td>\n",
       "      <td>AAI</td>\n",
       "      <td>N</td>\n",
       "      <td>...</td>\n",
       "      <td>1000572</td>\n",
       "      <td>2024-01-17T00:00:00.000</td>\n",
       "      <td>2026-03-15T00:00:00.000</td>\n",
       "      <td>259</td>\n",
       "      <td>37</td>\n",
       "      <td>1006</td>\n",
       "      <td>JEWEL FOOD STORES, INC.</td>\n",
       "      <td>1000572-20240316</td>\n",
       "      <td>42</td>\n",
       "      <td>NaN</td>\n",
       "    </tr>\n",
       "    <tr>\n",
       "      <th>163</th>\n",
       "      <td>Retail Food Establishment</td>\n",
       "      <td>60640</td>\n",
       "      <td>2948892</td>\n",
       "      <td>{'latitude': '41.979428254921736', 'human_addr...</td>\n",
       "      <td>2024-01-18T00:00:00.000</td>\n",
       "      <td>CHICAGO</td>\n",
       "      <td>48-12</td>\n",
       "      <td>5343 N BROADWAY  1ST #</td>\n",
       "      <td>AAI</td>\n",
       "      <td>N</td>\n",
       "      <td>...</td>\n",
       "      <td>1323</td>\n",
       "      <td>2024-01-17T00:00:00.000</td>\n",
       "      <td>2026-03-15T00:00:00.000</td>\n",
       "      <td>259</td>\n",
       "      <td>3</td>\n",
       "      <td>1006</td>\n",
       "      <td>JEWEL FOOD STORES, INC.</td>\n",
       "      <td>1323-20240316</td>\n",
       "      <td>26</td>\n",
       "      <td>NaN</td>\n",
       "    </tr>\n",
       "  </tbody>\n",
       "</table>\n",
       "<p>5 rows × 33 columns</p>\n",
       "</div>"
      ],
      "text/plain": [
       "                      license_description zip_code license_id  \\\n",
       "798  Food - Shared Kitchen - Supplemental    60656    2951734   \n",
       "90   Food - Shared Kitchen - Supplemental    60618    2948895   \n",
       "110  Food - Shared Kitchen - Supplemental    60639    2948928   \n",
       "153             Retail Food Establishment    60649    2948918   \n",
       "163             Retail Food Establishment    60640    2948892   \n",
       "\n",
       "                                              location  \\\n",
       "798  {'latitude': '41.97454294770947', 'human_addre...   \n",
       "90   {'latitude': '41.95910043303784', 'human_addre...   \n",
       "110  {'latitude': '41.92629695632618', 'human_addre...   \n",
       "153  {'latitude': '41.75780565854321', 'human_addre...   \n",
       "163  {'latitude': '41.979428254921736', 'human_addr...   \n",
       "\n",
       "                 date_issued     city ward_precinct                  address  \\\n",
       "798  2024-04-24T00:00:00.000  CHICAGO         41-36    7342 W FOSTER AVE 1ST   \n",
       "90   2024-01-18T00:00:00.000  CHICAGO          47-8     4250 N LINCOLN AVE 1   \n",
       "110  2024-01-18T00:00:00.000  CHICAGO          36-4  2520 N NARRAGANSETT AVE   \n",
       "153  2024-01-18T00:00:00.000  CHICAGO           8-2  7530 S STONY ISLAND AVE   \n",
       "163  2024-01-18T00:00:00.000  CHICAGO         48-12   5343 N BROADWAY  1ST #   \n",
       "\n",
       "    license_status conditional_approval  ... license_number  \\\n",
       "798            AAI                    N  ...        2951734   \n",
       "90             AAI                    N  ...        2803237   \n",
       "110            AAI                    N  ...        2845353   \n",
       "153            AAI                    N  ...        1000572   \n",
       "163            AAI                    N  ...           1323   \n",
       "\n",
       "    license_approved_for_issuance          expiration_date account_number  \\\n",
       "798       2024-04-23T00:00:00.000  2026-03-15T00:00:00.000            259   \n",
       "90        2024-01-17T00:00:00.000  2026-03-15T00:00:00.000            259   \n",
       "110       2024-01-17T00:00:00.000  2026-03-15T00:00:00.000            259   \n",
       "153       2024-01-17T00:00:00.000  2026-03-15T00:00:00.000            259   \n",
       "163       2024-01-17T00:00:00.000  2026-03-15T00:00:00.000            259   \n",
       "\n",
       "    site_number license_code               legal_name                id  ssa  \\\n",
       "798          26         8343  JEWEL FOOD STORES, INC.  2951734-20240424  NaN   \n",
       "90            4         8343  JEWEL FOOD STORES, INC.  2803237-20240316   38   \n",
       "110          53         8343  JEWEL FOOD STORES, INC.  2845353-20240316  NaN   \n",
       "153          37         1006  JEWEL FOOD STORES, INC.  1000572-20240316   42   \n",
       "163           3         1006  JEWEL FOOD STORES, INC.     1323-20240316   26   \n",
       "\n",
       "    application_created_date  \n",
       "798  2024-01-24T00:00:00.000  \n",
       "90                       NaN  \n",
       "110                      NaN  \n",
       "153                      NaN  \n",
       "163                      NaN  \n",
       "\n",
       "[5 rows x 33 columns]"
      ]
     },
     "execution_count": 40,
     "metadata": {},
     "output_type": "execute_result"
    }
   ],
   "source": [
    "jewels.head()"
   ]
  },
  {
   "cell_type": "code",
   "execution_count": 43,
   "metadata": {},
   "outputs": [
    {
     "name": "stdout",
     "output_type": "stream",
     "text": [
      "Thee are 37 Jewels currently active in Chicago\n"
     ]
    }
   ],
   "source": [
    "no_of_jewels = jewels[\"doing_business_as_name\"].nunique()\n",
    "print(f\"Thee are {no_of_jewels} Jewels currently active in Chicago\")"
   ]
  },
  {
   "cell_type": "markdown",
   "metadata": {},
   "source": [
    "# Whole Foods"
   ]
  },
  {
   "cell_type": "code",
   "execution_count": 47,
   "metadata": {},
   "outputs": [],
   "source": [
    "wholefoods = business_df[business_df[\"doing_business_as_name\"] == \"WHOLE FOODS MARKET\"]"
   ]
  },
  {
   "cell_type": "code",
   "execution_count": 51,
   "metadata": {},
   "outputs": [
    {
     "name": "stdout",
     "output_type": "stream",
     "text": [
      "There are 12 currently registered in Chicago\n"
     ]
    }
   ],
   "source": [
    "print(f\"There are {wholefoods[\"address\"].nunique()} currently registered in Chicago\")"
   ]
  },
  {
   "cell_type": "markdown",
   "metadata": {},
   "source": [
    "# Mariano's"
   ]
  },
  {
   "cell_type": "code",
   "execution_count": 54,
   "metadata": {},
   "outputs": [],
   "source": [
    "marianos = wholefoods = business_df[business_df[\"legal_name\"] == \"ROUNDY'S ILLINOIS, LLC\"]"
   ]
  },
  {
   "cell_type": "code",
   "execution_count": 58,
   "metadata": {},
   "outputs": [
    {
     "name": "stdout",
     "output_type": "stream",
     "text": [
      "There are 13 Mariano's in Chicago\n"
     ]
    }
   ],
   "source": [
    "print(f\"There are {marianos[\"doing_business_as_name\"].nunique()} Mariano's in Chicago\")"
   ]
  },
  {
   "cell_type": "markdown",
   "metadata": {},
   "source": [
    "# Trader Joe's"
   ]
  },
  {
   "cell_type": "code",
   "execution_count": 61,
   "metadata": {},
   "outputs": [],
   "source": [
    "trader_joes = business_df[business_df[\"legal_name\"] == \"TRADER JOE'S EAST INC.\"]"
   ]
  },
  {
   "cell_type": "code",
   "execution_count": 64,
   "metadata": {},
   "outputs": [
    {
     "name": "stdout",
     "output_type": "stream",
     "text": [
      "There are 6 Trader Joe's in Chicago\n"
     ]
    }
   ],
   "source": [
    "print(f\"There are {trader_joes[\"address\"].nunique()} Trader Joe's in Chicago\")"
   ]
  },
  {
   "cell_type": "markdown",
   "metadata": {},
   "source": [
    "# Aldi"
   ]
  },
  {
   "cell_type": "code",
   "execution_count": 65,
   "metadata": {},
   "outputs": [],
   "source": [
    "aldi =  business_df[business_df[\"legal_name\"] == \"ALDI INC.\"]"
   ]
  },
  {
   "cell_type": "code",
   "execution_count": 68,
   "metadata": {},
   "outputs": [
    {
     "name": "stdout",
     "output_type": "stream",
     "text": [
      "There are 31 Aldi's in Chicago\n"
     ]
    }
   ],
   "source": [
    "print(f\"There are {aldi[\"address\"].nunique()} Aldi's in Chicago\")"
   ]
  }
 ],
 "metadata": {
  "kernelspec": {
   "display_name": "chicago_env",
   "language": "python",
   "name": "python3"
  },
  "language_info": {
   "codemirror_mode": {
    "name": "ipython",
    "version": 3
   },
   "file_extension": ".py",
   "mimetype": "text/x-python",
   "name": "python",
   "nbconvert_exporter": "python",
   "pygments_lexer": "ipython3",
   "version": "3.12.2"
  }
 },
 "nbformat": 4,
 "nbformat_minor": 2
}
