{
 "cells": [
  {
   "cell_type": "code",
   "execution_count": 3,
   "metadata": {},
   "outputs": [],
   "source": [
    "import requests\n",
    "\n",
    "import geopandas as gpd\n",
    "import numpy as np\n",
    "import pandas as pd\n",
    "\n",
    "import matplotlib.pyplot as plt\n",
    "import matplotlib.ticker as ticker\n",
    "import seaborn as sns"
   ]
  },
  {
   "cell_type": "code",
   "execution_count": 4,
   "metadata": {},
   "outputs": [],
   "source": [
    "# the Chicago Data Portal returns 1000 records at a time\n",
    "# The data must be queried with the offset parameter \n",
    "business_df = pd.DataFrame()\n",
    "\n",
    "for offset in range(0, 60000, 1000):\n",
    "    active_business_url = f\"https://data.cityofchicago.org/resource/uupf-x98q.json?$limit=1000&$offset={offset}\"\n",
    "    response = requests.get(active_business_url)\n",
    "    offset_df = pd.DataFrame(response.json())\n",
    "    business_df = pd.concat([business_df,offset_df])"
   ]
  },
  {
   "cell_type": "code",
   "execution_count": 5,
   "metadata": {},
   "outputs": [
    {
     "data": {
      "text/html": [
       "<div>\n",
       "<style scoped>\n",
       "    .dataframe tbody tr th:only-of-type {\n",
       "        vertical-align: middle;\n",
       "    }\n",
       "\n",
       "    .dataframe tbody tr th {\n",
       "        vertical-align: top;\n",
       "    }\n",
       "\n",
       "    .dataframe thead th {\n",
       "        text-align: right;\n",
       "    }\n",
       "</style>\n",
       "<table border=\"1\" class=\"dataframe\">\n",
       "  <thead>\n",
       "    <tr style=\"text-align: right;\">\n",
       "      <th></th>\n",
       "      <th>license_description</th>\n",
       "      <th>zip_code</th>\n",
       "      <th>license_id</th>\n",
       "      <th>location</th>\n",
       "      <th>date_issued</th>\n",
       "      <th>city</th>\n",
       "      <th>ward_precinct</th>\n",
       "      <th>address</th>\n",
       "      <th>license_status</th>\n",
       "      <th>conditional_approval</th>\n",
       "      <th>...</th>\n",
       "      <th>license_number</th>\n",
       "      <th>license_approved_for_issuance</th>\n",
       "      <th>expiration_date</th>\n",
       "      <th>account_number</th>\n",
       "      <th>site_number</th>\n",
       "      <th>license_code</th>\n",
       "      <th>legal_name</th>\n",
       "      <th>id</th>\n",
       "      <th>ssa</th>\n",
       "      <th>application_created_date</th>\n",
       "    </tr>\n",
       "  </thead>\n",
       "  <tbody>\n",
       "    <tr>\n",
       "      <th>0</th>\n",
       "      <td>Regulated Business License</td>\n",
       "      <td>60655</td>\n",
       "      <td>2962346</td>\n",
       "      <td>{'latitude': '41.70083904551383', 'human_addre...</td>\n",
       "      <td>2024-04-15T00:00:00.000</td>\n",
       "      <td>CHICAGO</td>\n",
       "      <td>19-29</td>\n",
       "      <td>10555 S KEDZIE AVE</td>\n",
       "      <td>AAI</td>\n",
       "      <td>N</td>\n",
       "      <td>...</td>\n",
       "      <td>2862408</td>\n",
       "      <td>2024-04-12T00:00:00.000</td>\n",
       "      <td>2026-08-15T00:00:00.000</td>\n",
       "      <td>487722</td>\n",
       "      <td>1</td>\n",
       "      <td>4404</td>\n",
       "      <td>T'MARIE ART COMPANY LLC</td>\n",
       "      <td>2862408-20240816</td>\n",
       "      <td>NaN</td>\n",
       "      <td>NaN</td>\n",
       "    </tr>\n",
       "    <tr>\n",
       "      <th>1</th>\n",
       "      <td>Shared Kitchen User (Long Term)</td>\n",
       "      <td>60605</td>\n",
       "      <td>2962074</td>\n",
       "      <td>{'latitude': '41.864950550027714', 'human_addr...</td>\n",
       "      <td>2024-04-04T00:00:00.000</td>\n",
       "      <td>CHICAGO</td>\n",
       "      <td>3-26</td>\n",
       "      <td>1327 S PLYMOUTH CT 1 C</td>\n",
       "      <td>AAI</td>\n",
       "      <td>N</td>\n",
       "      <td>...</td>\n",
       "      <td>2856289</td>\n",
       "      <td>NaN</td>\n",
       "      <td>2026-07-15T00:00:00.000</td>\n",
       "      <td>486252</td>\n",
       "      <td>2</td>\n",
       "      <td>8344</td>\n",
       "      <td>HOOK POINT FISHERIES LLC</td>\n",
       "      <td>2856289-20240716</td>\n",
       "      <td>NaN</td>\n",
       "      <td>NaN</td>\n",
       "    </tr>\n",
       "    <tr>\n",
       "      <th>2</th>\n",
       "      <td>Valet Parking Operator</td>\n",
       "      <td>60611</td>\n",
       "      <td>2963136</td>\n",
       "      <td>{'latitude': '41.892140783720365', 'human_addr...</td>\n",
       "      <td>2024-05-03T00:00:00.000</td>\n",
       "      <td>CHICAGO</td>\n",
       "      <td>42-48</td>\n",
       "      <td>540 N MICHIGAN AVE</td>\n",
       "      <td>AAI</td>\n",
       "      <td>N</td>\n",
       "      <td>...</td>\n",
       "      <td>2463664</td>\n",
       "      <td>2024-05-03T00:00:00.000</td>\n",
       "      <td>2025-06-30T00:00:00.000</td>\n",
       "      <td>63376</td>\n",
       "      <td>189</td>\n",
       "      <td>2101</td>\n",
       "      <td>INTERPARK LLC</td>\n",
       "      <td>2463664-20240701</td>\n",
       "      <td>NaN</td>\n",
       "      <td>NaN</td>\n",
       "    </tr>\n",
       "    <tr>\n",
       "      <th>3</th>\n",
       "      <td>Retail Food Establishment</td>\n",
       "      <td>60616</td>\n",
       "      <td>2962847</td>\n",
       "      <td>{'latitude': '41.85372213502968', 'human_addre...</td>\n",
       "      <td>2024-04-29T00:00:00.000</td>\n",
       "      <td>CHICAGO</td>\n",
       "      <td>11-16</td>\n",
       "      <td>2147 S CHINA PL 1 &amp; 2</td>\n",
       "      <td>AAI</td>\n",
       "      <td>N</td>\n",
       "      <td>...</td>\n",
       "      <td>2202688</td>\n",
       "      <td>2024-04-27T00:00:00.000</td>\n",
       "      <td>2026-06-15T00:00:00.000</td>\n",
       "      <td>20942</td>\n",
       "      <td>2</td>\n",
       "      <td>1006</td>\n",
       "      <td>NEW LEE WING WAH INC</td>\n",
       "      <td>2202688-20240616</td>\n",
       "      <td>NaN</td>\n",
       "      <td>NaN</td>\n",
       "    </tr>\n",
       "    <tr>\n",
       "      <th>4</th>\n",
       "      <td>Regulated Business License</td>\n",
       "      <td>60614</td>\n",
       "      <td>2965955</td>\n",
       "      <td>{'latitude': '41.920459758521204', 'human_addr...</td>\n",
       "      <td>2024-04-16T00:00:00.000</td>\n",
       "      <td>CHICAGO</td>\n",
       "      <td>2-20</td>\n",
       "      <td>2105 N SOUTHPORT AVE 2 SUITE 200</td>\n",
       "      <td>AAI</td>\n",
       "      <td>N</td>\n",
       "      <td>...</td>\n",
       "      <td>2851545</td>\n",
       "      <td>2024-04-15T00:00:00.000</td>\n",
       "      <td>2026-06-15T00:00:00.000</td>\n",
       "      <td>486731</td>\n",
       "      <td>1</td>\n",
       "      <td>4404</td>\n",
       "      <td>HEAT 3.0 LLC</td>\n",
       "      <td>2851545-20240616</td>\n",
       "      <td>NaN</td>\n",
       "      <td>NaN</td>\n",
       "    </tr>\n",
       "  </tbody>\n",
       "</table>\n",
       "<p>5 rows × 33 columns</p>\n",
       "</div>"
      ],
      "text/plain": [
       "               license_description zip_code license_id  \\\n",
       "0       Regulated Business License    60655    2962346   \n",
       "1  Shared Kitchen User (Long Term)    60605    2962074   \n",
       "2           Valet Parking Operator    60611    2963136   \n",
       "3        Retail Food Establishment    60616    2962847   \n",
       "4       Regulated Business License    60614    2965955   \n",
       "\n",
       "                                            location              date_issued  \\\n",
       "0  {'latitude': '41.70083904551383', 'human_addre...  2024-04-15T00:00:00.000   \n",
       "1  {'latitude': '41.864950550027714', 'human_addr...  2024-04-04T00:00:00.000   \n",
       "2  {'latitude': '41.892140783720365', 'human_addr...  2024-05-03T00:00:00.000   \n",
       "3  {'latitude': '41.85372213502968', 'human_addre...  2024-04-29T00:00:00.000   \n",
       "4  {'latitude': '41.920459758521204', 'human_addr...  2024-04-16T00:00:00.000   \n",
       "\n",
       "      city ward_precinct                           address license_status  \\\n",
       "0  CHICAGO         19-29                10555 S KEDZIE AVE            AAI   \n",
       "1  CHICAGO          3-26            1327 S PLYMOUTH CT 1 C            AAI   \n",
       "2  CHICAGO         42-48                540 N MICHIGAN AVE            AAI   \n",
       "3  CHICAGO         11-16             2147 S CHINA PL 1 & 2            AAI   \n",
       "4  CHICAGO          2-20  2105 N SOUTHPORT AVE 2 SUITE 200            AAI   \n",
       "\n",
       "  conditional_approval  ... license_number license_approved_for_issuance  \\\n",
       "0                    N  ...        2862408       2024-04-12T00:00:00.000   \n",
       "1                    N  ...        2856289                           NaN   \n",
       "2                    N  ...        2463664       2024-05-03T00:00:00.000   \n",
       "3                    N  ...        2202688       2024-04-27T00:00:00.000   \n",
       "4                    N  ...        2851545       2024-04-15T00:00:00.000   \n",
       "\n",
       "           expiration_date account_number site_number license_code  \\\n",
       "0  2026-08-15T00:00:00.000         487722           1         4404   \n",
       "1  2026-07-15T00:00:00.000         486252           2         8344   \n",
       "2  2025-06-30T00:00:00.000          63376         189         2101   \n",
       "3  2026-06-15T00:00:00.000          20942           2         1006   \n",
       "4  2026-06-15T00:00:00.000         486731           1         4404   \n",
       "\n",
       "                 legal_name                id  ssa application_created_date  \n",
       "0   T'MARIE ART COMPANY LLC  2862408-20240816  NaN                      NaN  \n",
       "1  HOOK POINT FISHERIES LLC  2856289-20240716  NaN                      NaN  \n",
       "2             INTERPARK LLC  2463664-20240701  NaN                      NaN  \n",
       "3      NEW LEE WING WAH INC  2202688-20240616  NaN                      NaN  \n",
       "4              HEAT 3.0 LLC  2851545-20240616  NaN                      NaN  \n",
       "\n",
       "[5 rows x 33 columns]"
      ]
     },
     "execution_count": 5,
     "metadata": {},
     "output_type": "execute_result"
    }
   ],
   "source": [
    "business_df.head()"
   ]
  },
  {
   "cell_type": "code",
   "execution_count": 6,
   "metadata": {},
   "outputs": [
    {
     "data": {
      "text/plain": [
       "Index(['license_description', 'zip_code', 'license_id', 'location',\n",
       "       'date_issued', 'city', 'ward_precinct', 'address', 'license_status',\n",
       "       'conditional_approval', 'state', 'payment_date', 'business_activity',\n",
       "       'license_start_date', 'latitude', 'precinct',\n",
       "       'application_requirements_complete', 'ward', 'doing_business_as_name',\n",
       "       'police_district', 'business_activity_id', 'longitude',\n",
       "       'application_type', 'license_number', 'license_approved_for_issuance',\n",
       "       'expiration_date', 'account_number', 'site_number', 'license_code',\n",
       "       'legal_name', 'id', 'ssa', 'application_created_date'],\n",
       "      dtype='object')"
      ]
     },
     "execution_count": 6,
     "metadata": {},
     "output_type": "execute_result"
    }
   ],
   "source": [
    "business_df.columns"
   ]
  },
  {
   "cell_type": "markdown",
   "metadata": {},
   "source": [
    "# How Many Jewel's are in Chicago\n"
   ]
  },
  {
   "cell_type": "code",
   "execution_count": 7,
   "metadata": {},
   "outputs": [],
   "source": [
    "\n",
    "jewels = business_df[business_df[\"legal_name\"] == \"JEWEL FOOD STORES, INC.\"]"
   ]
  },
  {
   "cell_type": "code",
   "execution_count": 8,
   "metadata": {},
   "outputs": [
    {
     "data": {
      "text/html": [
       "<div>\n",
       "<style scoped>\n",
       "    .dataframe tbody tr th:only-of-type {\n",
       "        vertical-align: middle;\n",
       "    }\n",
       "\n",
       "    .dataframe tbody tr th {\n",
       "        vertical-align: top;\n",
       "    }\n",
       "\n",
       "    .dataframe thead th {\n",
       "        text-align: right;\n",
       "    }\n",
       "</style>\n",
       "<table border=\"1\" class=\"dataframe\">\n",
       "  <thead>\n",
       "    <tr style=\"text-align: right;\">\n",
       "      <th></th>\n",
       "      <th>license_description</th>\n",
       "      <th>zip_code</th>\n",
       "      <th>license_id</th>\n",
       "      <th>location</th>\n",
       "      <th>date_issued</th>\n",
       "      <th>city</th>\n",
       "      <th>ward_precinct</th>\n",
       "      <th>address</th>\n",
       "      <th>license_status</th>\n",
       "      <th>conditional_approval</th>\n",
       "      <th>...</th>\n",
       "      <th>license_number</th>\n",
       "      <th>license_approved_for_issuance</th>\n",
       "      <th>expiration_date</th>\n",
       "      <th>account_number</th>\n",
       "      <th>site_number</th>\n",
       "      <th>license_code</th>\n",
       "      <th>legal_name</th>\n",
       "      <th>id</th>\n",
       "      <th>ssa</th>\n",
       "      <th>application_created_date</th>\n",
       "    </tr>\n",
       "  </thead>\n",
       "  <tbody>\n",
       "    <tr>\n",
       "      <th>778</th>\n",
       "      <td>Food - Shared Kitchen - Supplemental</td>\n",
       "      <td>60656</td>\n",
       "      <td>2951734</td>\n",
       "      <td>{'latitude': '41.97454294770947', 'human_addre...</td>\n",
       "      <td>2024-04-24T00:00:00.000</td>\n",
       "      <td>CHICAGO</td>\n",
       "      <td>41-36</td>\n",
       "      <td>7342 W FOSTER AVE 1ST</td>\n",
       "      <td>AAI</td>\n",
       "      <td>N</td>\n",
       "      <td>...</td>\n",
       "      <td>2951734</td>\n",
       "      <td>2024-04-23T00:00:00.000</td>\n",
       "      <td>2026-03-15T00:00:00.000</td>\n",
       "      <td>259</td>\n",
       "      <td>26</td>\n",
       "      <td>8343</td>\n",
       "      <td>JEWEL FOOD STORES, INC.</td>\n",
       "      <td>2951734-20240424</td>\n",
       "      <td>NaN</td>\n",
       "      <td>2024-01-24T00:00:00.000</td>\n",
       "    </tr>\n",
       "    <tr>\n",
       "      <th>927</th>\n",
       "      <td>Retail Food Establishment</td>\n",
       "      <td>60641</td>\n",
       "      <td>2948915</td>\n",
       "      <td>{'latitude': '41.95355443840363', 'human_addre...</td>\n",
       "      <td>2024-01-18T00:00:00.000</td>\n",
       "      <td>CHICAGO</td>\n",
       "      <td>45-7</td>\n",
       "      <td>4660 W IRVING PARK RD 1ST</td>\n",
       "      <td>AAI</td>\n",
       "      <td>N</td>\n",
       "      <td>...</td>\n",
       "      <td>1409</td>\n",
       "      <td>2024-01-17T00:00:00.000</td>\n",
       "      <td>2026-03-15T00:00:00.000</td>\n",
       "      <td>259</td>\n",
       "      <td>34</td>\n",
       "      <td>1006</td>\n",
       "      <td>JEWEL FOOD STORES, INC.</td>\n",
       "      <td>1409-20240316</td>\n",
       "      <td>28</td>\n",
       "      <td>NaN</td>\n",
       "    </tr>\n",
       "    <tr>\n",
       "      <th>937</th>\n",
       "      <td>Food - Shared Kitchen - Supplemental</td>\n",
       "      <td>60617</td>\n",
       "      <td>2948917</td>\n",
       "      <td>{'latitude': '41.722263198133774', 'human_addr...</td>\n",
       "      <td>2024-01-18T00:00:00.000</td>\n",
       "      <td>CHICAGO</td>\n",
       "      <td>7-38</td>\n",
       "      <td>1655 E 95TH ST  1ST</td>\n",
       "      <td>AAI</td>\n",
       "      <td>N</td>\n",
       "      <td>...</td>\n",
       "      <td>2698892</td>\n",
       "      <td>2024-01-17T00:00:00.000</td>\n",
       "      <td>2026-03-15T00:00:00.000</td>\n",
       "      <td>259</td>\n",
       "      <td>36</td>\n",
       "      <td>8343</td>\n",
       "      <td>JEWEL FOOD STORES, INC.</td>\n",
       "      <td>2698892-20240316</td>\n",
       "      <td>NaN</td>\n",
       "      <td>NaN</td>\n",
       "    </tr>\n",
       "    <tr>\n",
       "      <th>941</th>\n",
       "      <td>Retail Food Establishment</td>\n",
       "      <td>60654</td>\n",
       "      <td>2948926</td>\n",
       "      <td>{'latitude': '41.89242136613116', 'human_addre...</td>\n",
       "      <td>2024-01-18T00:00:00.000</td>\n",
       "      <td>CHICAGO</td>\n",
       "      <td>42-20</td>\n",
       "      <td>550 N STATE ST</td>\n",
       "      <td>AAI</td>\n",
       "      <td>N</td>\n",
       "      <td>...</td>\n",
       "      <td>1226337</td>\n",
       "      <td>2024-01-17T00:00:00.000</td>\n",
       "      <td>2026-03-15T00:00:00.000</td>\n",
       "      <td>259</td>\n",
       "      <td>51</td>\n",
       "      <td>1006</td>\n",
       "      <td>JEWEL FOOD STORES, INC.</td>\n",
       "      <td>1226337-20240316</td>\n",
       "      <td>NaN</td>\n",
       "      <td>NaN</td>\n",
       "    </tr>\n",
       "    <tr>\n",
       "      <th>943</th>\n",
       "      <td>Retail Food Establishment</td>\n",
       "      <td>60622</td>\n",
       "      <td>2948911</td>\n",
       "      <td>{'latitude': '41.906243703084954', 'human_addr...</td>\n",
       "      <td>2024-01-18T00:00:00.000</td>\n",
       "      <td>CHICAGO</td>\n",
       "      <td>1-21</td>\n",
       "      <td>1341 N PAULINA ST 1</td>\n",
       "      <td>AAI</td>\n",
       "      <td>N</td>\n",
       "      <td>...</td>\n",
       "      <td>1398</td>\n",
       "      <td>2024-01-17T00:00:00.000</td>\n",
       "      <td>2026-03-15T00:00:00.000</td>\n",
       "      <td>259</td>\n",
       "      <td>29</td>\n",
       "      <td>1006</td>\n",
       "      <td>JEWEL FOOD STORES, INC.</td>\n",
       "      <td>1398-20240316</td>\n",
       "      <td>33</td>\n",
       "      <td>NaN</td>\n",
       "    </tr>\n",
       "  </tbody>\n",
       "</table>\n",
       "<p>5 rows × 33 columns</p>\n",
       "</div>"
      ],
      "text/plain": [
       "                      license_description zip_code license_id  \\\n",
       "778  Food - Shared Kitchen - Supplemental    60656    2951734   \n",
       "927             Retail Food Establishment    60641    2948915   \n",
       "937  Food - Shared Kitchen - Supplemental    60617    2948917   \n",
       "941             Retail Food Establishment    60654    2948926   \n",
       "943             Retail Food Establishment    60622    2948911   \n",
       "\n",
       "                                              location  \\\n",
       "778  {'latitude': '41.97454294770947', 'human_addre...   \n",
       "927  {'latitude': '41.95355443840363', 'human_addre...   \n",
       "937  {'latitude': '41.722263198133774', 'human_addr...   \n",
       "941  {'latitude': '41.89242136613116', 'human_addre...   \n",
       "943  {'latitude': '41.906243703084954', 'human_addr...   \n",
       "\n",
       "                 date_issued     city ward_precinct  \\\n",
       "778  2024-04-24T00:00:00.000  CHICAGO         41-36   \n",
       "927  2024-01-18T00:00:00.000  CHICAGO          45-7   \n",
       "937  2024-01-18T00:00:00.000  CHICAGO          7-38   \n",
       "941  2024-01-18T00:00:00.000  CHICAGO         42-20   \n",
       "943  2024-01-18T00:00:00.000  CHICAGO          1-21   \n",
       "\n",
       "                       address license_status conditional_approval  ...  \\\n",
       "778      7342 W FOSTER AVE 1ST            AAI                    N  ...   \n",
       "927  4660 W IRVING PARK RD 1ST            AAI                    N  ...   \n",
       "937        1655 E 95TH ST  1ST            AAI                    N  ...   \n",
       "941             550 N STATE ST            AAI                    N  ...   \n",
       "943        1341 N PAULINA ST 1            AAI                    N  ...   \n",
       "\n",
       "    license_number license_approved_for_issuance          expiration_date  \\\n",
       "778        2951734       2024-04-23T00:00:00.000  2026-03-15T00:00:00.000   \n",
       "927           1409       2024-01-17T00:00:00.000  2026-03-15T00:00:00.000   \n",
       "937        2698892       2024-01-17T00:00:00.000  2026-03-15T00:00:00.000   \n",
       "941        1226337       2024-01-17T00:00:00.000  2026-03-15T00:00:00.000   \n",
       "943           1398       2024-01-17T00:00:00.000  2026-03-15T00:00:00.000   \n",
       "\n",
       "    account_number site_number license_code               legal_name  \\\n",
       "778            259          26         8343  JEWEL FOOD STORES, INC.   \n",
       "927            259          34         1006  JEWEL FOOD STORES, INC.   \n",
       "937            259          36         8343  JEWEL FOOD STORES, INC.   \n",
       "941            259          51         1006  JEWEL FOOD STORES, INC.   \n",
       "943            259          29         1006  JEWEL FOOD STORES, INC.   \n",
       "\n",
       "                   id  ssa application_created_date  \n",
       "778  2951734-20240424  NaN  2024-01-24T00:00:00.000  \n",
       "927     1409-20240316   28                      NaN  \n",
       "937  2698892-20240316  NaN                      NaN  \n",
       "941  1226337-20240316  NaN                      NaN  \n",
       "943     1398-20240316   33                      NaN  \n",
       "\n",
       "[5 rows x 33 columns]"
      ]
     },
     "execution_count": 8,
     "metadata": {},
     "output_type": "execute_result"
    }
   ],
   "source": [
    "jewels.head()"
   ]
  },
  {
   "cell_type": "code",
   "execution_count": 9,
   "metadata": {},
   "outputs": [
    {
     "name": "stdout",
     "output_type": "stream",
     "text": [
      "Thee are 24 Jewels currently active in Chicago\n"
     ]
    }
   ],
   "source": [
    "no_of_jewels = jewels[\"doing_business_as_name\"].nunique()\n",
    "print(f\"Thee are {no_of_jewels} Jewels currently active in Chicago\")"
   ]
  },
  {
   "cell_type": "markdown",
   "metadata": {},
   "source": [
    "# Whole Foods"
   ]
  },
  {
   "cell_type": "code",
   "execution_count": 10,
   "metadata": {},
   "outputs": [],
   "source": [
    "wholefoods = business_df[business_df[\"doing_business_as_name\"] == \"WHOLE FOODS MARKET\"]"
   ]
  },
  {
   "cell_type": "code",
   "execution_count": 11,
   "metadata": {},
   "outputs": [
    {
     "name": "stdout",
     "output_type": "stream",
     "text": [
      "There are 12 currently registered in Chicago\n"
     ]
    }
   ],
   "source": [
    "print(f\"There are {wholefoods[\"address\"].nunique()} currently registered in Chicago\")"
   ]
  },
  {
   "cell_type": "markdown",
   "metadata": {},
   "source": [
    "# Mariano's"
   ]
  },
  {
   "cell_type": "code",
   "execution_count": 12,
   "metadata": {},
   "outputs": [],
   "source": [
    "marianos = wholefoods = business_df[business_df[\"legal_name\"] == \"ROUNDY'S ILLINOIS, LLC\"]"
   ]
  },
  {
   "cell_type": "code",
   "execution_count": 13,
   "metadata": {},
   "outputs": [
    {
     "name": "stdout",
     "output_type": "stream",
     "text": [
      "There are 13 Mariano's in Chicago\n"
     ]
    }
   ],
   "source": [
    "print(f\"There are {marianos[\"doing_business_as_name\"].nunique()} Mariano's in Chicago\")"
   ]
  },
  {
   "cell_type": "markdown",
   "metadata": {},
   "source": [
    "# Trader Joe's"
   ]
  },
  {
   "cell_type": "code",
   "execution_count": 14,
   "metadata": {},
   "outputs": [],
   "source": [
    "trader_joes = business_df[business_df[\"legal_name\"] == \"TRADER JOE'S EAST INC.\"]"
   ]
  },
  {
   "cell_type": "code",
   "execution_count": 15,
   "metadata": {},
   "outputs": [
    {
     "name": "stdout",
     "output_type": "stream",
     "text": [
      "There are 6 Trader Joe's in Chicago\n"
     ]
    }
   ],
   "source": [
    "print(f\"There are {trader_joes[\"address\"].nunique()} Trader Joe's in Chicago\")"
   ]
  },
  {
   "cell_type": "markdown",
   "metadata": {},
   "source": [
    "# Aldi"
   ]
  },
  {
   "cell_type": "code",
   "execution_count": 16,
   "metadata": {},
   "outputs": [],
   "source": [
    "aldi =  business_df[business_df[\"legal_name\"] == \"ALDI INC.\"]"
   ]
  },
  {
   "cell_type": "code",
   "execution_count": 17,
   "metadata": {},
   "outputs": [
    {
     "name": "stdout",
     "output_type": "stream",
     "text": [
      "There are 31 Aldi's in Chicago\n"
     ]
    }
   ],
   "source": [
    "print(f\"There are {aldi[\"address\"].nunique()} Aldi's in Chicago\")"
   ]
  },
  {
   "cell_type": "markdown",
   "metadata": {},
   "source": [
    "# Mapping"
   ]
  },
  {
   "cell_type": "code",
   "execution_count": 19,
   "metadata": {},
   "outputs": [],
   "source": [
    "shape_file = \"../../shape_files/geo_export_13b5a44a-41a4-464a-8d09-00ab1c022c4d.shp\"\n",
    "chicago_map = gpd.read_file(shape_file)"
   ]
  },
  {
   "cell_type": "code",
   "execution_count": 20,
   "metadata": {},
   "outputs": [
    {
     "data": {
      "text/plain": [
       "<Axes: >"
      ]
     },
     "execution_count": 20,
     "metadata": {},
     "output_type": "execute_result"
    },
    {
     "data": {
      "image/png": "[encoded data removed]",
      "text/plain": [
       "<Figure size 640x480 with 1 Axes>"
      ]
     },
     "metadata": {},
     "output_type": "display_data"
    }
   ],
   "source": [
    "chicago_map.plot()"
   ]
  },
  {
   "cell_type": "code",
   "execution_count": null,
   "metadata": {},
   "outputs": [],
   "source": []
  }
 ],
 "metadata": {
  "kernelspec": {
   "display_name": "chicago_env",
   "language": "python",
   "name": "python3"
  },
  "language_info": {
   "codemirror_mode": {
    "name": "ipython",
    "version": 3
   },
   "file_extension": ".py",
   "mimetype": "text/x-python",
   "name": "python",
   "nbconvert_exporter": "python",
   "pygments_lexer": "ipython3",
   "version": "3.12.2"
  }
 },
 "nbformat": 4,
 "nbformat_minor": 2
}
