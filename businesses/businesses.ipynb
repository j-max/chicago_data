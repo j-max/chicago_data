{
 "cells": [
  {
   "cell_type": "code",
   "execution_count": 4,
   "metadata": {},
   "outputs": [],
   "source": [
    "import requests\n",
    "import datetime\n",
    "\n",
    "import geopandas as gpd\n",
    "from shapely.geometry import Point, Polygon\n",
    "\n",
    "import numpy as np\n",
    "import pandas as pd\n",
    "\n",
    "import matplotlib.pyplot as plt\n",
    "import seaborn as sns"
   ]
  },
  {
   "cell_type": "code",
   "execution_count": 2,
   "metadata": {},
   "outputs": [],
   "source": [
    "# the Chicago Data Portal returns 1000 records at a time\n",
    "# The data must be queried with the offset parameter \n",
    "business_df = pd.DataFrame()\n",
    "\n",
    "for offset in range(0, 60000, 1000):\n",
    "    # this is the url for active business licences in Chicago.\n",
    "    active_business_url = f\"https://data.cityofchicago.org/resource/uupf-x98q.json?$limit=1000&$offset={offset}\"\n",
    "    response = requests.get(active_business_url)\n",
    "    offset_df = pd.DataFrame(response.json())\n",
    "    business_df = pd.concat([business_df,offset_df])"
   ]
  },
  {
   "cell_type": "code",
   "execution_count": 19,
   "metadata": {},
   "outputs": [],
   "source": [
    "today = datetime.datetime.today().strftime('%m-%d-%Y')"
   ]
  },
  {
   "cell_type": "code",
   "execution_count": 20,
   "metadata": {},
   "outputs": [
    {
     "name": "stdout",
     "output_type": "stream",
     "text": [
      "There are 53437 active businesses on 05-18-2024\n"
     ]
    }
   ],
   "source": [
    "print(f\"There are {business_df.shape[0]} active businesses on \" \n",
    "    + f\"{today}\")"
   ]
  },
  {
   "cell_type": "code",
   "execution_count": 22,
   "metadata": {},
   "outputs": [
    {
     "name": "stdout",
     "output_type": "stream",
     "text": [
      "There are 35818 unique business addresses as of 05-18-2024\n"
     ]
    }
   ],
   "source": [
    "print(f\"There are {len(business_df['address'].unique())} \"\n",
    "    + \"unique business addresses as of \"\n",
    "    + f\"{today}\")"
   ]
  },
  {
   "cell_type": "code",
   "execution_count": 24,
   "metadata": {},
   "outputs": [],
   "source": [
    "def create_geo_df(business_df):\n",
    "    \n",
    "    crs = {'init':'EPSG:4326'}\n",
    "    geometry = [Point(xy) for xy in zip(business_df['longitude'], business_df['latitude'])]\n",
    "    geo_df = gpd.GeoDataFrame(business_df, \n",
    "                          crs=crs,\n",
    "                          geometry = geometry)"
   ]
  },
  {
   "cell_type": "code",
   "execution_count": null,
   "metadata": {},
   "outputs": [],
   "source": [
    "create_geo_df()"
   ]
  },
  {
   "cell_type": "code",
   "execution_count": null,
   "metadata": {},
   "outputs": [],
   "source": []
  }
 ],
 "metadata": {
  "kernelspec": {
   "display_name": "chicago",
   "language": "python",
   "name": "python3"
  },
  "language_info": {
   "codemirror_mode": {
    "name": "ipython",
    "version": 3
   },
   "file_extension": ".py",
   "mimetype": "text/x-python",
   "name": "python",
   "nbconvert_exporter": "python",
   "pygments_lexer": "ipython3",
   "version": "3.12.3"
  }
 },
 "nbformat": 4,
 "nbformat_minor": 2
}
