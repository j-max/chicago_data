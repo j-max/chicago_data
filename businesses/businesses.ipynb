{
 "cells": [
  {
   "cell_type": "code",
   "execution_count": 4,
   "metadata": {},
   "outputs": [],
   "source": [
    "import requests\n",
    "import datetime\n",
    "\n",
    "import geopandas as gpd\n",
    "from shapely.geometry import Point, Polygon\n",
    "\n",
    "import numpy as np\n",
    "import pandas as pd\n",
    "\n",
    "import matplotlib.pyplot as plt\n",
    "import seaborn as sns"
   ]
  },
  {
   "cell_type": "code",
   "execution_count": 2,
   "metadata": {},
   "outputs": [],
   "source": [
    "# the Chicago Data Portal returns 1000 records at a time\n",
    "# The data must be queried with the offset parameter \n",
    "business_df = pd.DataFrame()\n",
    "\n",
    "for offset in range(0, 60000, 1000):\n",
    "    # this is the url for active business licences in Chicago.\n",
    "    active_business_url = f\"https://data.cityofchicago.org/resource/uupf-x98q.json?$limit=1000&$offset={offset}\"\n",
    "    response = requests.get(active_business_url)\n",
    "    offset_df = pd.DataFrame(response.json())\n",
    "    business_df = pd.concat([business_df,offset_df])"
   ]
  },
  {
   "cell_type": "code",
   "execution_count": 7,
   "metadata": {},
   "outputs": [
    {
     "data": {
      "text/plain": [
       "'05-18-2024'"
      ]
     },
     "execution_count": 7,
     "metadata": {},
     "output_type": "execute_result"
    }
   ],
   "source": []
  },
  {
   "cell_type": "code",
   "execution_count": 13,
   "metadata": {},
   "outputs": [
    {
     "name": "stdout",
     "output_type": "stream",
     "text": [
      "There are 53437 active businesses on 05-18-2024\n"
     ]
    }
   ],
   "source": [
    "print(f\"There are {business_df.shape[0]} active businesses on \" \n",
    "    + f\"{datetime.datetime.today().strftime('%m-%d-%Y')}\")"
   ]
  },
  {
   "cell_type": "code",
   "execution_count": null,
   "metadata": {},
   "outputs": [],
   "source": []
  }
 ],
 "metadata": {
  "kernelspec": {
   "display_name": "chicago",
   "language": "python",
   "name": "python3"
  },
  "language_info": {
   "codemirror_mode": {
    "name": "ipython",
    "version": 3
   },
   "file_extension": ".py",
   "mimetype": "text/x-python",
   "name": "python",
   "nbconvert_exporter": "python",
   "pygments_lexer": "ipython3",
   "version": "3.12.3"
  }
 },
 "nbformat": 4,
 "nbformat_minor": 2
}
